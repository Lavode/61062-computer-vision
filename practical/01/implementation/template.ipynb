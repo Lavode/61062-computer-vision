{
 "cells": [
  {
   "cell_type": "markdown",
   "metadata": {},
   "source": [
    "# Assignment 1 - Image Deblurring\n",
    "\n",
    "Name: Michael Senn<br>\n",
    "Matriculation number: 16-126-880"
   ]
  },
  {
   "cell_type": "code",
   "execution_count": 1,
   "metadata": {},
   "outputs": [],
   "source": [
    "import time\n",
    "\n",
    "import numpy as np\n",
    "from PIL import Image\n",
    "import matplotlib.pyplot as plt\n",
    "\n",
    "import scipy.signal\n",
    "import scipy.sparse as sparse\n",
    "\n",
    "from hessian_matrix import hessian_matrix"
   ]
  },
  {
   "cell_type": "markdown",
   "metadata": {},
   "source": [
    "## Test Image\n",
    "\n",
    "You can use the following function to create a synthetic image:\n",
    "\n"
   ]
  },
  {
   "cell_type": "code",
   "execution_count": 2,
   "metadata": {},
   "outputs": [
    {
     "data": {
      "image/png": "[encoded data removed]",
      "text/plain": [
       "<Figure size 432x288 with 1 Axes>"
      ]
     },
     "metadata": {
      "needs_background": "light"
     },
     "output_type": "display_data"
    }
   ],
   "source": [
    "def create_random_binary_img_1():\n",
    "    # This is going to create an array containing exclusively 1, \n",
    "    # so the image is going to be anything but random.\n",
    "    u = np.random.randint(1,2, 30*30).reshape(30,30).astype(float)\n",
    "    u[5:9,4:] = 0.5\n",
    "    u[3:5,4:] = 0\n",
    "    u[10:15,:10] = 0\n",
    "    u[10:15,15:] = 0.8\n",
    "    u[15:, 18:27] = 0.3\n",
    "\n",
    "    for i in range(10):\n",
    "        u[i+17,i+4:i+8]  = 0\n",
    "    \n",
    "    u[20:25:, 20:23] = 1    \n",
    "    u[20:28,4] = 0\n",
    "    u[20:28,3] = 0.3\n",
    "    u[20:28,2] = 0.7\n",
    "\n",
    "    return u\n",
    "\n",
    "sample_image = create_random_binary_img_1()\n",
    "\n",
    "plt.imshow(sample_image, cmap =\"gray\")\n",
    "plt.show()"
   ]
  },
  {
   "cell_type": "markdown",
   "metadata": {},
   "source": [
    "## hessian_matrix() function\n",
    "\n",
    "We provide the implementation of the hessian matrix for $k = 0, 1, 2, 3$.\n",
    "\n",
    "input variables: \n",
    "- u: your image\n",
    "- reg: regularization parameter\n",
    "- k: one of the four kernel types 0-3 \n",
    "\n",
    "Example usage:"
   ]
  },
  {
   "cell_type": "code",
   "execution_count": 3,
   "metadata": {},
   "outputs": [
    {
     "name": "stdout",
     "output_type": "stream",
     "text": [
      "[[ 4.  -2.   0.  -2.   0.   0.   0.   0.   0. ]\n",
      " [-2.   6.  -2.   0.  -2.   0.   0.   0.   0. ]\n",
      " [ 0.  -2.   4.   0.   0.  -2.   0.   0.   0. ]\n",
      " [-2.   0.   0.   6.5 -1.5  0.  -2.   0.   0. ]\n",
      " [ 0.  -2.   0.  -1.5  9.  -1.5  0.  -2.   0. ]\n",
      " [ 0.   0.  -2.   0.  -1.5  6.5  0.   0.  -2. ]\n",
      " [ 0.   0.   0.  -2.   0.   0.   4.5 -1.5  0. ]\n",
      " [ 0.   0.   0.   0.  -2.   0.  -1.5  7.  -1.5]\n",
      " [ 0.   0.   0.   0.   0.  -2.   0.  -1.5  4.5]]\n"
     ]
    }
   ],
   "source": [
    "u_ex = np.zeros(9).reshape(3,3)\n",
    "reg_ex = 1\n",
    "k_type_ex = 0 # 16-126-880 mod 4\n",
    "A = hessian_matrix(u_ex, reg_ex, k_type_ex)\n",
    "A_n_t = A.toarray()\n",
    "print(A_n_t)"
   ]
  },
  {
   "cell_type": "markdown",
   "metadata": {},
   "source": [
    "## Implementation"
   ]
  },
  {
   "cell_type": "markdown",
   "metadata": {},
   "source": [
    "### Gradients"
   ]
  },
  {
   "cell_type": "code",
   "execution_count": 4,
   "metadata": {},
   "outputs": [],
   "source": [
    "def no_regularization(u):\n",
    "    return np.zeros(u.shape)\n",
    "    \n",
    "def anisotropic_regularization(u):\n",
    "    \"\"\"Gradient of anisotropic regularization term\"\"\"\n",
    "    gradient = np.zeros(u.shape)\n",
    "    n, m = u.shape\n",
    "    \n",
    "    # Case A\n",
    "    gradient[0, 0] = np.sign(u[0, 0] - u[1, 0]) + np.sign(u[0, 0] - u[0, 1])\n",
    "    \n",
    "    # Case B\n",
    "    gradient[1:n-1, 0] = np.sign(u[1:n-1, 0] - u[0:n-2, 0]) + np.sign(u[1:n-1, 0] - u[2:n, 0]) + np.sign(u[1:n-1, 0] - u[1:n-1, 1])\n",
    "    \n",
    "    # Case C\n",
    "    gradient[n-1, 0] = np.sign(u[n-1, 0] - u[n-2, 0]) + np.sign(u[n-1, 0] - u[n-1, 1])\n",
    "    \n",
    "    # Case D\n",
    "    gradient[n-1, 1:m-1] = np.sign(u[n-1, 1:m-1] - u[n-2, 1:m-1]) + np.sign(u[n-1, 1:m-1] - u[n-1, 0:m-2]) + np.sign(u[n-1, 1:m-1] - u[n-1, 2:m])\n",
    "    \n",
    "    # Case E\n",
    "    gradient[n-1, m-1] = np.sign(u[n-1, m-1] - u[n-2, m-1]) + np.sign(u[n-1, m-1] - u[n-1, m-2])\n",
    "    \n",
    "    # Case F\n",
    "    gradient[1:n-1, m-1] = np.sign(u[1:n-1, m-1] - u[1:n-1, m-2]) + np.sign(u[1:n-1, m-1] - u[2:n, m-1]) + np.sign(u[1:n-1, m-1] - u[0:n-2, m-1])\n",
    "    \n",
    "    # Case G\n",
    "    gradient[0, m-1] = np.sign(u[0, m-1] - u[0, m-2]) + np.sign(u[0, m-1] - u[1, m-1])\n",
    "    \n",
    "    # Case H\n",
    "    gradient[0, 1:m-1] = np.sign(u[0, 1:m-1] - u[1, 1:m-1]) + np.sign(u[0, 1:m-1] - u[0, 2:m]) + np.sign(u[0, 1:m-1] - u[0, 0:m-2])\n",
    "    \n",
    "    # Case I\n",
    "    gradient[1:n-1, 1:m-1] = np.sign(u[1:n-1, 1:m-1] - u[2:n, 1:m-1]) + np.sign(u[1:n-1, 1:m-1] - u[1:n-1, 2:m]) + np.sign(u[1:n-1, 1:m-1] - u[0:n-2, 1:m-1]) + np.sign(u[1:n-1, 1:m-1] - u[1:n-1, 0:m-2])\n",
    "    \n",
    "    return gradient\n",
    "\n",
    "def gaussian_regularization(u):\n",
    "    \"\"\"Gradient of Gaussian regularization term\"\"\"\n",
    "    gradient = np.zeros(u.shape)\n",
    "    n, m = u.shape\n",
    "    \n",
    "    # Case A\n",
    "    gradient[0, 0] = 4 * u[0, 0] - 2 * u[1, 0] - 2 * u[0, 1]\n",
    "    \n",
    "    # Case B\n",
    "    gradient[1:n-1, 0] = 6 * u[1:n-1, 0] - 2 * u[0:n-2, 0] - 2 * u[2:n, 0] - 2 * u[1:n-1, 1]\n",
    "    \n",
    "    # Case C\n",
    "    gradient[n-1, 0] = 4 * u[n-1, 0] - 2 * u[n-2, 0] - 2 * u[n-1, 1]\n",
    "    \n",
    "    # Case D\n",
    "    gradient[n-1, 1:m-1] = 6 * u[n-1, 1:m-1] - 2 * u[n-2, 1:m-1] - 2 * u[n-1, 0:m-2] - 2 * u[n-1, 2:m]\n",
    "    \n",
    "    # Case E\n",
    "    gradient[n-1, m-1] = 4 * u[n-1, m-1] - 2 * u[n-2, m-1] - 2 * u[n-1, m-2]\n",
    "    \n",
    "    # Case F\n",
    "    gradient[1:n-1, m-1] = 6 * u[1:n-1, m-1] - 2 * u[1:n-1, m-2] - 2 * u[2:n, m-1] - 2 * u[0:n-2, m-1]\n",
    "    \n",
    "    # Case G\n",
    "    gradient[0, m-1] = 4 * u[0, m-1] - 2 * u[0, m-2] - 2 * u[1, m-1]\n",
    "    \n",
    "    # Case H\n",
    "    gradient[0, 1:m-1] = 6 * u[0, 1:m-1] - 2 * u[1, 1:m-1] - 2 * u[0, 2:m] - 2 * u[0, 0:m-2]\n",
    "    \n",
    "    # Case I\n",
    "    gradient[1:n-1, 1:m-1] = 8 * u[1:n-1, 1:m-1] - 2 * u[2:n, 1:m-1] - 2 * u[1:n-1, 2:m] - 2 * u[0:n-2, 1:m-1] - 2 * u[1:n-1, 0:m-2]\n",
    "    \n",
    "    return gradient\n",
    "\n",
    "def data_term_gradient(u, g):  \n",
    "    \"\"\"Gradient of data term\"\"\"\n",
    "    gradient = np.zeros(u.shape)\n",
    "    n, m = u.shape\n",
    "    \n",
    "    # Case A\n",
    "    gradient[0] = 0\n",
    "    \n",
    "    # Case B\n",
    "    gradient[1:n, 0] = 1/2 * u[1:n, 1] + 1/2 * u[1:n, 0] - g[0:n-1, 0]\n",
    "    \n",
    "    # Case C\n",
    "    gradient[1:n, m-1] = 1/2 * u[1:n, m-2] + 1/2 * u[1:n, m-1] - g[0:n-1, m-2]\n",
    "    \n",
    "    # Case D\n",
    "    gradient[1:n, 1:m-1] = 1/2 * u[1:n, 2:m] + 1/2 * u[1:n, 1:m-1] - g[0:n-1, 1:m-1] + 1/2 * u[1:n, 0:m-2] + 1/2 * u[1:n, 1:m-1] - g[0:n-1, 0:m-2]\n",
    "    \n",
    "    return gradient"
   ]
  },
  {
   "cell_type": "markdown",
   "metadata": {},
   "source": [
    "### Gradient Descent"
   ]
  },
  {
   "cell_type": "code",
   "execution_count": 5,
   "metadata": {},
   "outputs": [],
   "source": [
    "def GD(g, reg_lambda, reg_term = no_regularization, epsilon = 0.1, stop_criteria = 10**(-1), max_iter = 10**5):\n",
    "    \"\"\"\n",
    "    Gradient Descent algorithm\n",
    "    g: grayscale blurry image of size (M, N)\n",
    "    reg_lambda: regularization parameter\n",
    "    epsilon: Gradient descent learning rate\n",
    "    stop_criteria: Frobenius norm of gradient below which iteration will stop.\n",
    "    max_iter: Iteration count after which GD will terminate early.\n",
    "    \"\"\"\n",
    "    \n",
    "    REPORT_EVERY_ITER = 10000\n",
    "    \n",
    "    n, m = g.shape[0], g.shape[1]\n",
    "    \n",
    "    # Start with a m+1 x n+1 image initialized to zero\n",
    "    u = np.zeros((n+1, m+1))\n",
    "    # And initialize lower left corner with our blurry image, to save a few iterations.\n",
    "    # This choice of initialization also masks (most of) the area where the data term's \n",
    "    # gradient is zero.\n",
    "    u[0:n, 0:m] = g\n",
    "  \n",
    "    cur_iter = 0\n",
    "    while True:\n",
    "        # Start with GD until convergence, or max_iter reached\n",
    "        cur_iter += 1\n",
    "        \n",
    "        # Gradient of data term\n",
    "        data_gradient = data_term_gradient(u, g)\n",
    "        \n",
    "        # Gradient of data term plus lambda * gradient of chosen regularization term\n",
    "        gradient = data_gradient + reg_lambda * reg_term(u)\n",
    "        \n",
    "        # Froebius norm of full gradient, used as stop condition\n",
    "        gradient_norm = np.linalg.norm(gradient, ord='fro')\n",
    "        \n",
    "        if gradient_norm < stop_criteria:\n",
    "            print(f\"Gradient descent: Stopping after {cur_iter} iterations. Norm of gradient = {gradient_norm}\")\n",
    "            break\n",
    "            \n",
    "        if cur_iter > max_iter:\n",
    "            print(f\"WARNING: Gradient descent terminating early after {cur_iter - 1} iterations. Norm of gradient = {gradient_norm}\")\n",
    "            break\n",
    "                \n",
    "        # Update rule of GD with step size epsilon\n",
    "        u = u - epsilon * gradient\n",
    "        \n",
    "        if cur_iter % REPORT_EVERY_ITER == 0:\n",
    "            print(f\"Current iteration: {cur_iter}\")\n",
    "            \n",
    "    return u"
   ]
  },
  {
   "cell_type": "markdown",
   "metadata": {},
   "source": [
    "### Linearization + Gauss-Seidel"
   ]
  },
  {
   "cell_type": "code",
   "execution_count": 6,
   "metadata": {},
   "outputs": [],
   "source": [
    "def gauss_seidel_iterative_linearization(u, gradient, hessian):\n",
    "    \"\"\"Linearize gradient for Gauss-Seidel iteration\n",
    "    u_flat: (m+1 x n+1) current iteration of unblurred image\n",
    "    gradient: Current gradient\n",
    "    hessian: Current Hessian\n",
    "    \"\"\"\n",
    "    n_plus, m_plus = u.shape\n",
    "\n",
    "    sparse_format = \"csc\"\n",
    " \n",
    "    # We now intend to solve A * u_{t+1} = b, where:\n",
    "    # A = Hessian(u_{t})\n",
    "    # b = Hessian(u_{t}) * u_{t} - gradient(u_{t})\n",
    "    # Using the Gauss-Seidel algorithm\n",
    "\n",
    "    u_flat = u.reshape((n_plus*m_plus, 1))\n",
    "    gradient_flat = gradient.reshape((n_plus*m_plus, 1))\n",
    "    \n",
    "    b = hessian * u_flat - gradient_flat\n",
    "    \n",
    "    # Get (sparse, for performance reasons) lower triangular (k=0) and \n",
    "    # *strictly* upper triangular (k=1) parts of Hessian\n",
    "    lower_hessian = sparse.tril(hessian, k=0, format=sparse_format)\n",
    "    upper_hessian = sparse.triu(hessian, k=1, format=sparse_format)\n",
    "    \n",
    "    # Solve for new iteration of unblurred image using Gauss-Seidel\n",
    "    # This directly solves the system u_{t+1} = L^{-1} * (b - U * u_t) using sparse matrices\n",
    "    # One could instead use the fact that U and L are triangular matrices to solve for u_{t+1}\n",
    "    # sequentially, as described on e.g. https://en.wikipedia.org/wiki/Gauss%E2%80%93Seidel_method#Algorithm\n",
    "    # However, the below is easier to implement, and works fine enough.\n",
    "    u_flat = sparse.linalg.inv(lower_hessian) * (b - upper_hessian * u_flat)  \n",
    "    \n",
    "    return u_flat.reshape((n_plus, m_plus))\n"
   ]
  },
  {
   "cell_type": "code",
   "execution_count": 7,
   "metadata": {},
   "outputs": [],
   "source": [
    "def LGS(g, reg_lambda, reg_term = no_regularization, stop_criteria = 10**(-3), max_iter = 100):\n",
    "    \"\"\"\n",
    "    Linearized Gauss Seidel Algortihm\n",
    "    g: grayscale blurry image of size (M, N)\n",
    "    reg_lambda: regularization parameter\n",
    "    stop_criteria: Frobenius norm of difference between two successive reconstructions \n",
    "      of image below which iteration will stop.\n",
    "    max_iter: Iteration count after which LGS will terminate early.\n",
    "    \"\"\"\n",
    "    REPORT_EVERY_ITER = 10\n",
    "    \n",
    "    n, m = g.shape\n",
    "    \n",
    "    # Start with a m+1 x n+1 image initialized to zero\n",
    "    u = np.zeros((n+1, m+1))\n",
    "    \n",
    "    # And initialize lower left corner with our blurry image, to save a few iterations.\n",
    "    # This choice of initialization also masks (most of) the area where the data term's \n",
    "    # gradient is zero.\n",
    "    u[0:n, 0:m] = g\n",
    "    \n",
    "    cur_iter = 0\n",
    "    while (True):\n",
    "        # Start with LGS until convergence, or max_iter reached\n",
    "        cur_iter += 1\n",
    "        \n",
    "        prev_u = u.copy()\n",
    "        gradient = data_term_gradient(u, g) + reg_lambda * reg_term(u)\n",
    "        hessian = hessian_matrix(u, reg_lambda, k)\n",
    "   \n",
    "        u = gauss_seidel_iterative_linearization(u, gradient, hessian)\n",
    "        delta_norm = np.linalg.norm(u - prev_u, ord='fro')\n",
    "        \n",
    "        if delta_norm < stop_criteria:\n",
    "            print(f\"Linearized Gauss-Seidel: Stopping after {cur_iter} iterations. Norm of delta = {delta_norm}\")\n",
    "            break\n",
    "            \n",
    "        if cur_iter > max_iter:\n",
    "            print(f\"WARNING: Linearized Gauss-Seidel terminating early after {cur_iter - 1} iterations. Norm of delta = {delta_norm}\")\n",
    "            break\n",
    "            \n",
    "        if cur_iter % REPORT_EVERY_ITER == 0:\n",
    "            print(f\"Current iteration: {cur_iter}\")\n",
    "\n",
    "    return u"
   ]
  },
  {
   "cell_type": "markdown",
   "metadata": {},
   "source": [
    "### Linearization + Successive Over-Relaxation"
   ]
  },
  {
   "cell_type": "code",
   "execution_count": 8,
   "metadata": {},
   "outputs": [],
   "source": [
    "def sor_iterative_linearization(u, gradient, hessian):\n",
    "    \"\"\"Linearize gradient for SOR iteration\n",
    "    u: (m+1 x n+1) current iteration of unblurred image\n",
    "    gradient: Current gradient\n",
    "    hessian: Current Hessian\n",
    "    \"\"\"\n",
    "    n_plus, m_plus = u.shape\n",
    "\n",
    "    sparse_format = \"csc\"\n",
    " \n",
    "    # We now intend to so\n",
    "    # b = Hessian(u_{t}) * u_lve A * u_{t+1} = b, where:\n",
    "    # A = Hessian(u_{t}){t} - gradient(u_{t})\n",
    "    # Using the Gauss-Seidel algorithm\n",
    "\n",
    "    u_flat = u.reshape((n_plus*m_plus, 1))\n",
    "    gradient_flat = gradient.reshape((n_plus*m_plus, 1))\n",
    "    \n",
    "    b = hessian * u_flat - gradient_flat\n",
    "    \n",
    "    # Get (sparse, for performance reasons) *strictly* lower triangular (k=-1) \n",
    "    # and *strictly* upper triangular (k=1) parts of Hessian, as well as diagonal\n",
    "    lower_hessian = sparse.tril(hessian, k=0, format=sparse_format)\n",
    "    upper_hessian = sparse.triu(hessian, k=1, format=sparse_format)\n",
    "    diagonal_hessian = hessian - lower_hessian - upper_hessian\n",
    "    \n",
    "    # Solve for new iteration of unblurred image using Gauss-Seidel\n",
    "    # This directly solves the system u_{t+1} = (D + w*L)^{-1} * (w*b - (w*U + (w-1)*D)*u_t) \n",
    "    # using sparse matrices.\n",
    "    # Again one could solve it sequentially using back substitution.\n",
    "    u_flat = sparse.linalg.inv(diagonal_hessian + w * lower_hessian) * \\\n",
    "      (w * b - (w * upper_hessian + (w - 1) * diagonal_hessian) * u_flat)\n",
    "\n",
    "    \n",
    "    return u_flat.reshape((n_plus, m_plus))"
   ]
  },
  {
   "cell_type": "code",
   "execution_count": 9,
   "metadata": {},
   "outputs": [],
   "source": [
    "def LSOR(g, reg_lambda, w, reg_term = no_regularization, stop_criteria = 10**(-3), max_iter = 100):\n",
    "    \"\"\"\n",
    "    Linearized SOR Algorithm\n",
    "    g: grayscale blyrry image of size (M, N)\n",
    "    reg_lambda: regularization parameter\n",
    "    w: SOR parameter\n",
    "    stop_criteria: Frobenius norm of difference between two successive reconstructions \n",
    "      of image below which iteration will stop.\n",
    "    max_iter: Iteration count after which LGS will terminate early.\n",
    "    \"\"\"\n",
    "    \n",
    "    REPORT_EVERY_ITER = 10\n",
    "    \n",
    "    n, m = g.shape\n",
    "    \n",
    "    # Start with a m+1 x n+1 image initialized to zero\n",
    "    u = np.zeros((n+1, m+1))\n",
    "    \n",
    "    # And initialize lower left corner with our blurry image, to save a few iterations.\n",
    "    # This choice of initialization also masks (most of) the area where the data term's \n",
    "    # gradient is zero.\n",
    "    u[0:n, 0:m] = g\n",
    "    \n",
    "    cur_iter = 0\n",
    "    while True:\n",
    "        # Start with LGS until convergence, or max_iter reached\n",
    "        cur_iter += 1\n",
    "\n",
    "        prev_u = u.copy()\n",
    "        gradient = data_term_gradient(u, g) + reg_lambda * reg_term(u)\n",
    "        hessian = hessian_matrix(u, reg_lambda, k)\n",
    "   \n",
    "        u = sor_iterative_linearization(u, gradient, hessian)\n",
    "        delta_norm = np.linalg.norm(u - prev_u, ord='fro')\n",
    "        \n",
    "        if delta_norm < stop_criteria:\n",
    "            print(f\"SOR: Stopping after {cur_iter} iterations. Norm of delta = {delta_norm}\")\n",
    "            break\n",
    "            \n",
    "        if cur_iter > max_iter:\n",
    "            print(f\"WARNING: SOR terminating early after {cur_iter - 1} iterations. Norm of delta = {delta_norm}\")\n",
    "            break\n",
    "            \n",
    "        if cur_iter % REPORT_EVERY_ITER == 0:\n",
    "            print(f\"Current iteration: {cur_iter}\")\n",
    "\n",
    "    return u"
   ]
  },
  {
   "cell_type": "markdown",
   "metadata": {},
   "source": [
    "### Parameters"
   ]
  },
  {
   "cell_type": "code",
   "execution_count": 10,
   "metadata": {},
   "outputs": [],
   "source": [
    "reg_lambda = 0.001 # lambda regularization parameter. you need to play with this \n",
    "# k matrix. Look below how to choose it \n",
    "k = 0 # 16-126-880 mod 0\n",
    "\n",
    "# reg_term = no_regularization\n",
    "reg_term = gaussian_regularization\n",
    "# reg_term = anisotropic_regularization"
   ]
  },
  {
   "cell_type": "markdown",
   "metadata": {},
   "source": [
    "$k =0 \\longrightarrow \\begin{bmatrix}\\frac{1}{2} & \\frac{1}{2} \\\\0&0\\end{bmatrix} \\hspace{1cm} k =1 \\longrightarrow  \\begin{bmatrix}\\frac{1}{2} & 0 \\\\\\frac{1}{2}&0\\end{bmatrix} \\hspace{1cm} k =2 \\longrightarrow \\begin{bmatrix}\\frac{1}{2} & 0 \\\\0&\\frac{1}{2}\\end{bmatrix}   \\hspace{1cm} k =3 \\longrightarrow \\begin{bmatrix}0 & \\frac{1}{2} \\\\ \\frac{1}{2}&0\\end{bmatrix}$\n",
    "\n"
   ]
  },
  {
   "cell_type": "markdown",
   "metadata": {},
   "source": [
    "### Reading image\n",
    "\n",
    "You are provided with only the synthetic image. \n",
    "The purpose of using a synthetic image is to see possible changes in the deblurred image after applying your algorithm. \n",
    "You can convolve the original image using the [scipy library](https://docs.scipy.org/doc/scipy/reference/generated/scipy.signal.convolve2d.html).\n",
    "Note that you must choose **valid** as the mode in your convolution."
   ]
  },
  {
   "cell_type": "code",
   "execution_count": 11,
   "metadata": {},
   "outputs": [],
   "source": [
    "img_org = sample_image = create_random_binary_img_1()\n",
    "\n",
    "kernel = np.array([[1/2, 1/2], [0, 0]])\n",
    "\n",
    "# 'valid' mode will not do any padding, and rather simply \n",
    "# discard the pixels for which there would be out-of-bounds issues.\n",
    "img_blurred = scipy.signal.convolve2d(sample_image, kernel, mode='valid')"
   ]
  },
  {
   "cell_type": "markdown",
   "metadata": {},
   "source": [
    "## Utility functions"
   ]
  },
  {
   "cell_type": "code",
   "execution_count": 12,
   "metadata": {},
   "outputs": [],
   "source": [
    "def loss_term(reconstructed_img, blurry_img):\n",
    "    \"\"\"Calculate loss term as per equation 3 of PDF\"\"\"\n",
    "    \n",
    "    # First re-blur the reconstructed image\n",
    "    reblurred_img = scipy.signal.convolve2d(reconstructed_img, kernel, mode='valid')\n",
    "    \n",
    "    # Loss term is now sum of absolute (per-pixel) differences\n",
    "    return np.absolute(reblurred_img - blurry_img).sum()\n",
    "\n",
    "def ssd(reconstructed_img, original_img):\n",
    "    \"\"\"Calculate sum of squared (element-wise) differences\"\"\"\n",
    "    \n",
    "    return np.square(reconstructed_img - original_img).sum()"
   ]
  },
  {
   "cell_type": "markdown",
   "metadata": {},
   "source": [
    "## GRADIENT DESCENT"
   ]
  },
  {
   "cell_type": "code",
   "execution_count": 13,
   "metadata": {},
   "outputs": [
    {
     "name": "stdout",
     "output_type": "stream",
     "text": [
      "Running gradient descent with convergence criteria = 0.0001, step size = 0.1\n",
      "Regularization term: <function gaussian_regularization at 0x000001D955CBEAF0> with lambda = 0.001\n",
      "Current iteration: 10000\n",
      "Gradient descent: Stopping after 12202 iterations. Norm of gradient = 9.998677667291544e-05\n",
      "Elapsed: 1.107038974761963s\n"
     ]
    },
    {
     "data": {
      "image/png": "[encoded data removed]",
      "text/plain": [
       "<Figure size 1080x360 with 3 Axes>"
      ]
     },
     "metadata": {
      "needs_background": "light"
     },
     "output_type": "display_data"
    },
    {
     "name": "stdout",
     "output_type": "stream",
     "text": [
      "----------------\n",
      "For lambda 0.00100\t \n",
      "k_type 0\n",
      "Loss Data Term = 0.9272155709528759\n",
      "Sum of Squared Distance: deblurred vs. original = 0.6022985759289944\n"
     ]
    }
   ],
   "source": [
    "gd_epsilon = 0.1\n",
    "gd_stop_criteria = 10**(-4)\n",
    "\n",
    "print(f\"Running gradient descent with convergence criteria = {gd_stop_criteria}, step size = {gd_epsilon}\")\n",
    "print(f\"Regularization term: {reg_term} with lambda = {reg_lambda}\")\n",
    "# run gradient descent algorithm\n",
    "start = time.time()\n",
    "img_deblurred_gd = GD(img_blurred, reg_lambda, reg_term=reg_term, epsilon=gd_epsilon, stop_criteria=gd_stop_criteria)\n",
    "stop = time.time()\n",
    "print(f\"Elapsed: {stop - start}s\")\n",
    "\n",
    "# for visualization purpose \n",
    "# img_deblurred_gd = np.clip(u_final_gd, 0, 1)\n",
    "\n",
    "\n",
    "plt.figure(figsize=(15, 5))\n",
    "ax1 = plt.subplot(1, 3, 1)\n",
    "plt.imshow(img_blurred, cmap='gray')\n",
    "ax2 = plt.subplot(1, 3, 2)\n",
    "plt.imshow(img_deblurred_gd, cmap='gray')\n",
    "ax3 = plt.subplot(1, 3, 3)\n",
    "plt.imshow(img_org, cmap='gray')\n",
    "\n",
    "ax1.set_title(\"Blurred Image\")\n",
    "ax2.set_title(\"Deblurred Image - GD\")\n",
    "ax3.set_title(\"Original - Sharp Image\")\n",
    "plt.show()\n",
    "\n",
    "print(\"----------------\")\n",
    "print(f\"For lambda {reg_lambda:.5f}\\t \\nk_type {k:1d}\")\n",
    "print(f\"Loss Data Term = {loss_term(img_deblurred_gd, img_blurred)}\")\n",
    "print(f\"Sum of Squared Distance: deblurred vs. original = {ssd(img_deblurred_gd, img_org)}\")  "
   ]
  },
  {
   "cell_type": "markdown",
   "metadata": {},
   "source": [
    "### Impact of regularization parameter lambda on Gradient Descent\n",
    "\n",
    "Below we visually evaluate the efect of the regularization parameter on deblurring using gradient descent."
   ]
  },
  {
   "cell_type": "code",
   "execution_count": 14,
   "metadata": {},
   "outputs": [
    {
     "name": "stdout",
     "output_type": "stream",
     "text": [
      "Gradient descent: Stopping after 3632 iterations. Norm of gradient = 0.000999655889834887\n",
      "Gradient descent: Stopping after 3636 iterations. Norm of gradient = 0.0009995831359592322\n",
      "Gradient descent: Stopping after 1258 iterations. Norm of gradient = 0.0009979799981847117\n",
      "Gradient descent: Stopping after 263 iterations. Norm of gradient = 0.0009960396293816844\n",
      "Current iteration: 10000\n",
      "Current iteration: 20000\n",
      "Current iteration: 30000\n",
      "Current iteration: 40000\n",
      "Current iteration: 50000\n",
      "Current iteration: 60000\n",
      "Current iteration: 70000\n",
      "Current iteration: 80000\n",
      "Current iteration: 90000\n",
      "Current iteration: 100000\n",
      "WARNING: Gradient descent terminating early after 100000 iterations. Norm of gradient = 0.08974121588766683\n",
      "Current iteration: 10000\n",
      "Current iteration: 20000\n",
      "Current iteration: 30000\n",
      "Current iteration: 40000\n",
      "Current iteration: 50000\n",
      "Current iteration: 60000\n",
      "Current iteration: 70000\n",
      "Current iteration: 80000\n",
      "Current iteration: 90000\n",
      "Current iteration: 100000\n",
      "WARNING: Gradient descent terminating early after 100000 iterations. Norm of gradient = 0.8655999103156782\n",
      "Current iteration: 10000\n",
      "Current iteration: 20000\n",
      "Current iteration: 30000\n",
      "Current iteration: 40000\n",
      "Current iteration: 50000\n",
      "Current iteration: 60000\n",
      "Current iteration: 70000\n",
      "Current iteration: 80000\n",
      "Current iteration: 90000\n",
      "Current iteration: 100000\n",
      "WARNING: Gradient descent terminating early after 100000 iterations. Norm of gradient = 9.001374570729025\n"
     ]
    }
   ],
   "source": [
    "gd_stop_criteria = 10**(-3)\n",
    "\n",
    "gd_no_regularization = GD(img_blurred, 0, no_regularization, stop_criteria = gd_stop_criteria)\n",
    "\n",
    "gd_gaussian_001 = GD(img_blurred, 0.001, gaussian_regularization, stop_criteria=gd_stop_criteria)\n",
    "gd_gaussian_01 = GD(img_blurred, 0.01, gaussian_regularization, stop_criteria=gd_stop_criteria)\n",
    "gd_gaussian_1 = GD(img_blurred, 0.1, gaussian_regularization, stop_criteria=gd_stop_criteria)\n",
    "\n",
    "gd_anisotropic_001 = GD(img_blurred, 0.001, anisotropic_regularization, stop_criteria=gd_stop_criteria)\n",
    "gd_anisotropic_01 = GD(img_blurred, 0.01, anisotropic_regularization, stop_criteria=gd_stop_criteria)\n",
    "gd_anisotropic_1 = GD(img_blurred, 0.1, anisotropic_regularization, stop_criteria=gd_stop_criteria)  "
   ]
  },
  {
   "cell_type": "code",
   "execution_count": 15,
   "metadata": {},
   "outputs": [
    {
     "data": {
      "image/png": "[encoded data removed]",
      "text/plain": [
       "<Figure size 1800x1800 with 9 Axes>"
      ]
     },
     "metadata": {
      "needs_background": "light"
     },
     "output_type": "display_data"
    }
   ],
   "source": [
    "plot_rows = 3\n",
    "plot_cols = 3\n",
    "plt.figure(figsize=(25, 25))\n",
    "\n",
    "ax1 = plt.subplot(plot_rows, plot_cols, 1)\n",
    "plt.imshow(img_org, cmap='gray')\n",
    "ax1.set_title(\"Original image\")\n",
    "\n",
    "ax2 = plt.subplot(plot_rows, plot_cols, 2)\n",
    "plt.imshow(img_blurred, cmap='gray')\n",
    "ax2.set_title(\"Blurred image\")\n",
    "\n",
    "ax3 = plt.subplot(plot_rows, plot_cols, 3)\n",
    "plt.imshow(gd_no_regularization, cmap='gray')\n",
    "ax3.set_title(\"No regularization\")\n",
    "\n",
    "\n",
    "ax4 = plt.subplot(plot_rows, plot_cols, 4)\n",
    "plt.imshow(gd_gaussian_001, cmap='gray')\n",
    "ax4.set_title(\"Gaussian regularization, lambda = 0.001\")\n",
    "\n",
    "ax5 = plt.subplot(plot_rows, plot_cols, 5)\n",
    "plt.imshow(gd_gaussian_01, cmap='gray')\n",
    "ax5.set_title(\"Gaussian regularization, lambda = 0.01\")\n",
    "\n",
    "ax6 = plt.subplot(plot_rows, plot_cols, 6)\n",
    "plt.imshow(gd_gaussian_1, cmap='gray')\n",
    "ax6.set_title(\"Gaussian regularization, lambda = 0.1\")\n",
    "\n",
    "\n",
    "ax7 = plt.subplot(plot_rows, plot_cols, 7)\n",
    "plt.imshow(gd_anisotropic_001, cmap='gray')\n",
    "ax7.set_title(\"Anisotropic regularization, lambda = 0.001\")\n",
    "\n",
    "ax8 = plt.subplot(plot_rows, plot_cols, 8)\n",
    "plt.imshow(gd_anisotropic_01, cmap='gray')\n",
    "ax8.set_title(\"Anisotropic regularization, lambda = 0.01\")\n",
    "\n",
    "ax9 = plt.subplot(plot_rows, plot_cols, 9)\n",
    "plt.imshow(gd_anisotropic_1, cmap='gray')\n",
    "ax9.set_title(\"Anisotropic regularization, lambda = 0.1\")\n",
    "\n",
    "plt.show()"
   ]
  },
  {
   "cell_type": "markdown",
   "metadata": {},
   "source": [
    "With no regularization, the reconstruction is mediocre. While the shapes seem decently deblurred, the lighter colours use a lot of saturation, and artefacts are introduced. Further the model is unable to compensate for the one additional row of the output image, as it assumes that no noise was present at all.\n",
    "\n",
    "Gaussian regularization performs as one would expect, with - the higher regularization is weighted using the lambda parameter - gaussian noise being applied. If this is overdone however, sucha s with lambda = 0.1, then the result is simply an even more blurry image. In fact, none of the reconstructions using Gaussian regularization seem better than not using any regularization.\n",
    "\n",
    "Anisotropic regularization lastly performs exceedingly well, as long as the lambda parameter is set low enough.\n",
    "\n",
    "The best reconstruction seems to be the result of anisotropic regularization with lambda = 0.01."
   ]
  },
  {
   "cell_type": "markdown",
   "metadata": {},
   "source": [
    "## SOR"
   ]
  },
  {
   "cell_type": "code",
   "execution_count": 19,
   "metadata": {
    "scrolled": false
   },
   "outputs": [
    {
     "name": "stdout",
     "output_type": "stream",
     "text": [
      "Running SOR with convergence criteria = 0.001, w = 1.5\n",
      "Regularization term: <function gaussian_regularization at 0x000001D955CBEAF0> with lambda = 0.001\n",
      "Current iteration: 10\n",
      "Current iteration: 20\n",
      "Current iteration: 30\n",
      "Current iteration: 40\n",
      "Current iteration: 50\n",
      "Current iteration: 60\n",
      "Current iteration: 70\n",
      "Current iteration: 80\n",
      "Current iteration: 90\n",
      "Current iteration: 100\n",
      "WARNING: SOR terminating early after 100 iterations. Norm of delta = 0.003705677868229058\n",
      "Elapsed: 18.29506754875183s\n"
     ]
    },
    {
     "data": {
      "image/png": "[encoded data removed]",
      "text/plain": [
       "<Figure size 1080x360 with 3 Axes>"
      ]
     },
     "metadata": {
      "needs_background": "light"
     },
     "output_type": "display_data"
    },
    {
     "name": "stdout",
     "output_type": "stream",
     "text": [
      "----------------\n",
      "For lambda 0.00100\n",
      "Loss Data Term = 0.9491474112706388\n",
      "Sum of Squared Distance: deblurred vs. original = 0.8037164234753552\n"
     ]
    }
   ],
   "source": [
    "w = 1.5 #play with this\n",
    "sor_stop_criteria = 10**(-3)\n",
    "\n",
    "print(f\"Running SOR with convergence criteria = {sor_stop_criteria}, w = {w}\")\n",
    "print(f\"Regularization term: {reg_term} with lambda = {reg_lambda}\")\n",
    "\n",
    "# run LSOR algorithm\n",
    "start = time.time()\n",
    "img_deblurred_sor = LSOR(img_blurred, reg_lambda, w, reg_term=reg_term, stop_criteria=sor_stop_criteria)\n",
    "stop = time.time()\n",
    "print(f\"Elapsed: {stop - start}s\")\n",
    "\n",
    "plt.figure(figsize=(15, 5))\n",
    "ax1 = plt.subplot(1, 3, 1)\n",
    "plt.imshow(img_blurred, cmap='gray')\n",
    "ax2 = plt.subplot(1, 3, 2)\n",
    "plt.imshow(img_deblurred_sor, cmap='gray')\n",
    "ax3 = plt.subplot(1, 3, 3)\n",
    "plt.imshow(img_org, cmap='gray')\n",
    "\n",
    "ax1.set_title(\"Blurred Image\")\n",
    "ax2.set_title(\"Deblurred Image - SOR\")\n",
    "ax3.set_title(\"Original - Sharp Image\")\n",
    "#plt.savefig(\"results_\"+str(k)+\".png\")\n",
    "plt.show()\n",
    "\n",
    "print(\"----------------\")\n",
    "print(f\"For lambda {reg_lambda:.5f}\")\n",
    "print(f\"Loss Data Term = {loss_term(img_deblurred_sor, img_blurred)}\")\n",
    "print(f\"Sum of Squared Distance: deblurred vs. original = {ssd(img_deblurred_sor, img_org)}\")"
   ]
  },
  {
   "cell_type": "markdown",
   "metadata": {},
   "source": [
    "## GAUSS - SEIDEL"
   ]
  },
  {
   "cell_type": "code",
   "execution_count": 20,
   "metadata": {},
   "outputs": [
    {
     "name": "stdout",
     "output_type": "stream",
     "text": [
      "Running linearized gauss-seidel with convergence criteria = 0.001\n",
      "Regularization term: <function gaussian_regularization at 0x000001D955CBEAF0> with lambda = 0.001\n",
      "Current iteration: 10\n",
      "Current iteration: 20\n",
      "Current iteration: 30\n",
      "Current iteration: 40\n",
      "Current iteration: 50\n",
      "Current iteration: 60\n",
      "Current iteration: 70\n",
      "Current iteration: 80\n",
      "Current iteration: 90\n",
      "Current iteration: 100\n",
      "WARNING: Linearized Gauss-Seidel terminating early after 100 iterations. Norm of delta = 0.003705677868229205\n",
      "Elapsed: 18.618203163146973s\n"
     ]
    },
    {
     "data": {
      "image/png": "[encoded data removed]",
      "text/plain": [
       "<Figure size 1080x360 with 3 Axes>"
      ]
     },
     "metadata": {
      "needs_background": "light"
     },
     "output_type": "display_data"
    },
    {
     "name": "stdout",
     "output_type": "stream",
     "text": [
      "----------------\n",
      "For lambda 0.00100\n",
      "Loss Data Term = 0.9491474112706393\n",
      "Sum of Squared Distance: deblurred vs. original = 0.8037164234753624\n"
     ]
    }
   ],
   "source": [
    "lgs_stop_criteria = 10**(-3)\n",
    "\n",
    "print(f\"Running linearized gauss-seidel with convergence criteria = {lgs_stop_criteria}\")\n",
    "print(f\"Regularization term: {reg_term} with lambda = {reg_lambda}\")\n",
    "\n",
    "# run LGS algorithm\n",
    "start = time.time()\n",
    "img_deblurred_gs = LGS(img_blurred, reg_lambda, reg_term=reg_term, stop_criteria=lgs_stop_criteria)\n",
    "\n",
    "stop = time.time()\n",
    "\n",
    "print(f\"Elapsed: {stop - start}s\")\n",
    "\n",
    "plt.figure(figsize=(15, 5))\n",
    "ax1 = plt.subplot(1, 3, 1)\n",
    "plt.imshow(img_blurred, cmap='gray')\n",
    "ax2 = plt.subplot(1, 3, 2)\n",
    "plt.imshow(img_deblurred_gs, cmap='gray')\n",
    "ax3 = plt.subplot(1, 3, 3)\n",
    "plt.imshow(img_org, cmap='gray')\n",
    "\n",
    "ax1.set_title(\"Blurred Image\")\n",
    "ax2.set_title(\"Deblurred Image - LGS\")\n",
    "ax3.set_title(\"Original - Sharp Image\")\n",
    "plt.show()\n",
    "\n",
    "print(\"----------------\")\n",
    "print(f\"For lambda {reg_lambda:.5f}\")\n",
    "print(f\"Loss Data Term = {loss_term(img_deblurred_gs, img_blurred)}\")\n",
    "print(f\"Sum of Squared Distance: deblurred vs. original = {ssd(img_deblurred_gs, img_org)}\")  "
   ]
  },
  {
   "cell_type": "markdown",
   "metadata": {},
   "source": [
    "## Impact of regularization parameter\n",
    "\n",
    "In the analysis below, we will evaluate the impact of different values for the regularization parameter lambda on the reconstruction, using the gradient descent method with the anisotropic regularization term.\n",
    "\n",
    "The lambda parameter is the weight of the regularization parameter. As such it governs the assumption of how much noise there was assumed to be present in the system, when reconstructing the image."
   ]
  },
  {
   "cell_type": "code",
   "execution_count": 21,
   "metadata": {},
   "outputs": [
    {
     "data": {
      "image/png": "[encoded data removed]",
      "text/plain": [
       "<Figure size 1080x360 with 3 Axes>"
      ]
     },
     "metadata": {
      "needs_background": "light"
     },
     "output_type": "display_data"
    }
   ],
   "source": [
    "plot_rows = 1\n",
    "plot_cols = 3\n",
    "\n",
    "plt.figure(figsize=(15, 5))\n",
    "\n",
    "ax1 = plt.subplot(plot_rows, plot_cols, 1)\n",
    "plt.imshow(gd_anisotropic_001, cmap='gray')\n",
    "ax1.set_title(\"Anisotropic regularization, lambda = 0.001\")\n",
    "\n",
    "ax2 = plt.subplot(plot_rows, plot_cols, 2)\n",
    "plt.imshow(gd_anisotropic_01, cmap='gray')\n",
    "ax2.set_title(\"Anisotropic regularization, lambda = 0.01\")\n",
    "\n",
    "ax3 = plt.subplot(plot_rows, plot_cols, 3)\n",
    "plt.imshow(gd_anisotropic_1, cmap='gray')\n",
    "ax3.set_title(\"Anisotropic regularization, lambda = 0.1\")\n",
    "\n",
    "plt.show()"
   ]
  },
  {
   "cell_type": "markdown",
   "metadata": {},
   "source": [
    "Clearly a value of lambda around 0.01 provides the best results. With higher value, the resulting image becomes noisy once more.\n",
    "\n",
    "We now want to analyse the effect different values of lambda have on the sum-of-squared-differences of the reconstructed image with the original. The graph below shows how the SSD changes as lambda is changed."
   ]
  },
  {
   "cell_type": "code",
   "execution_count": 22,
   "metadata": {},
   "outputs": [
    {
     "name": "stdout",
     "output_type": "stream",
     "text": [
      "Gradient descent: Stopping after 3632 iterations. Norm of gradient = 0.000999655889834887\n",
      "Gradient descent: Stopping after 3632 iterations. Norm of gradient = 0.000999655889834887\n",
      "Current iteration: 10000\n",
      "Current iteration: 20000\n",
      "Current iteration: 30000\n",
      "Current iteration: 40000\n",
      "Current iteration: 50000\n",
      "WARNING: Gradient descent terminating early after 50000 iterations. Norm of gradient = 0.008657883417838663\n",
      "Gradient descent: Stopping after 3721 iterations. Norm of gradient = 0.00099967366066704\n",
      "Current iteration: 10000\n",
      "Current iteration: 20000\n",
      "Current iteration: 30000\n",
      "Current iteration: 40000\n",
      "Current iteration: 50000\n",
      "WARNING: Gradient descent terminating early after 50000 iterations. Norm of gradient = 0.017271792124874518\n",
      "Gradient descent: Stopping after 4183 iterations. Norm of gradient = 0.0009998699576678892\n",
      "Current iteration: 10000\n",
      "Current iteration: 20000\n",
      "Current iteration: 30000\n",
      "Current iteration: 40000\n",
      "Current iteration: 50000\n",
      "WARNING: Gradient descent terminating early after 50000 iterations. Norm of gradient = 0.025874343370042976\n",
      "Gradient descent: Stopping after 4457 iterations. Norm of gradient = 0.0009999792325710187\n",
      "Current iteration: 10000\n",
      "Current iteration: 20000\n",
      "Current iteration: 30000\n",
      "Current iteration: 40000\n",
      "Current iteration: 50000\n",
      "WARNING: Gradient descent terminating early after 50000 iterations. Norm of gradient = 0.03554491730308095\n",
      "Gradient descent: Stopping after 4450 iterations. Norm of gradient = 0.0009999788262391766\n",
      "Current iteration: 10000\n",
      "Current iteration: 20000\n",
      "Current iteration: 30000\n",
      "Current iteration: 40000\n",
      "Current iteration: 50000\n",
      "WARNING: Gradient descent terminating early after 50000 iterations. Norm of gradient = 0.04313399752624407\n",
      "Gradient descent: Stopping after 4329 iterations. Norm of gradient = 0.0009998262438631065\n",
      "Current iteration: 10000\n",
      "Current iteration: 20000\n",
      "Current iteration: 30000\n",
      "Current iteration: 40000\n",
      "Current iteration: 50000\n",
      "WARNING: Gradient descent terminating early after 50000 iterations. Norm of gradient = 0.08645412350546322\n",
      "Gradient descent: Stopping after 3636 iterations. Norm of gradient = 0.0009995831359592322\n",
      "Current iteration: 10000\n",
      "Current iteration: 20000\n",
      "Current iteration: 30000\n",
      "Current iteration: 40000\n",
      "Current iteration: 50000\n",
      "WARNING: Gradient descent terminating early after 50000 iterations. Norm of gradient = 0.1743221993506568\n",
      "Gradient descent: Stopping after 2865 iterations. Norm of gradient = 0.00099975206564995\n",
      "Current iteration: 10000\n",
      "Current iteration: 20000\n",
      "Current iteration: 30000\n",
      "Current iteration: 40000\n",
      "Current iteration: 50000\n",
      "WARNING: Gradient descent terminating early after 50000 iterations. Norm of gradient = 0.26406182239175885\n",
      "Gradient descent: Stopping after 2420 iterations. Norm of gradient = 0.0009994878138090075\n",
      "Current iteration: 10000\n",
      "Current iteration: 20000\n",
      "Current iteration: 30000\n",
      "Current iteration: 40000\n",
      "Current iteration: 50000\n",
      "WARNING: Gradient descent terminating early after 50000 iterations. Norm of gradient = 0.3517270537014666\n",
      "Gradient descent: Stopping after 2110 iterations. Norm of gradient = 0.0009998102101921908\n",
      "Current iteration: 10000\n",
      "Current iteration: 20000\n",
      "Current iteration: 30000\n",
      "Current iteration: 40000\n",
      "Current iteration: 50000\n",
      "WARNING: Gradient descent terminating early after 50000 iterations. Norm of gradient = 0.42959214009003527\n",
      "Gradient descent: Stopping after 1880 iterations. Norm of gradient = 0.000999462581749778\n",
      "Current iteration: 10000\n",
      "Current iteration: 20000\n",
      "Current iteration: 30000\n",
      "Current iteration: 40000\n",
      "Current iteration: 50000\n",
      "WARNING: Gradient descent terminating early after 50000 iterations. Norm of gradient = 0.8709251519337513\n",
      "Gradient descent: Stopping after 1258 iterations. Norm of gradient = 0.0009979799981847117\n",
      "Current iteration: 10000\n",
      "Current iteration: 20000\n",
      "Current iteration: 30000\n",
      "Current iteration: 40000\n",
      "Current iteration: 50000\n",
      "WARNING: Gradient descent terminating early after 50000 iterations. Norm of gradient = 8.798328925933557\n",
      "Gradient descent: Stopping after 263 iterations. Norm of gradient = 0.0009960396293816844\n",
      "Current iteration: 10000\n",
      "Current iteration: 20000\n",
      "Current iteration: 30000\n",
      "Current iteration: 40000\n",
      "Current iteration: 50000\n",
      "WARNING: Gradient descent terminating early after 50000 iterations. Norm of gradient = 108.88096276984993\n",
      "Gradient descent: Stopping after 67 iterations. Norm of gradient = 0.0009910916525352328\n"
     ]
    }
   ],
   "source": [
    "gd_stop_criteria = 10**(-3)\n",
    "lambda_values = [0, 0.0001, 0.0002, 0.0003, 0.0004, 0.0005, 0.001, 0.002, 0.003, 0.004, 0.005, 0.01, 0.1, 1]\n",
    "ssd_values_anisotropic = []\n",
    "ssd_values_gaussian = []\n",
    "\n",
    "for l in lambda_values:\n",
    "    img_anisotropic = GD(img_blurred, l, anisotropic_regularization, stop_criteria = gd_stop_criteria, max_iter = 50000)\n",
    "    ssd_values_anisotropic.append(ssd(img_anisotropic, img_org))\n",
    "    \n",
    "    img_gaussian = GD(img_blurred, l, gaussian_regularization, stop_criteria = gd_stop_criteria, max_iter = 50000)\n",
    "    ssd_values_gaussian.append(ssd(img_gaussian, img_org))\n"
   ]
  },
  {
   "cell_type": "code",
   "execution_count": 23,
   "metadata": {},
   "outputs": [
    {
     "data": {
      "image/png": "[encoded data removed]",
      "text/plain": [
       "<Figure size 1080x360 with 1 Axes>"
      ]
     },
     "metadata": {
      "needs_background": "light"
     },
     "output_type": "display_data"
    }
   ],
   "source": [
    "plt.figure(figsize=(15, 5))\n",
    "\n",
    "plt.title(\"Influence of lambda on SSD\")\n",
    "plt.xlabel(\"Lambda\")\n",
    "plt.ylabel(\"SSD\")\n",
    "\n",
    "plt.plot(lambda_values, ssd_values_anisotropic, label = \"Anisotropic\")\n",
    "plt.plot(lambda_values, ssd_values_gaussian, label = \"Gaussian\")\n",
    "plt.legend(title='Regularization method')\n",
    "plt.xscale(\"log\")\n",
    "plt.grid()\n",
    "plt.show() "
   ]
  },
  {
   "cell_type": "markdown",
   "metadata": {},
   "source": [
    "This graph nicely shows that ideal values for the regularization parameter are - both for Gaussian as well as anisotropic regularization - around $10^-3$  to $10^-2$. below this range, the impact of the regularization parameter becomes neglibible. Above, the reconstructed image becomes too noisy."
   ]
  }
 ],
 "metadata": {
  "kernelspec": {
   "display_name": "Python 3 (ipykernel)",
   "language": "python",
   "name": "python3"
  },
  "language_info": {
   "codemirror_mode": {
    "name": "ipython",
    "version": 3
   },
   "file_extension": ".py",
   "mimetype": "text/x-python",
   "name": "python",
   "nbconvert_exporter": "python",
   "pygments_lexer": "ipython3",
   "version": "3.8.12"
  }
 },
 "nbformat": 4,
 "nbformat_minor": 4
}
