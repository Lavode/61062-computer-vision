{
 "cells": [
  {
   "cell_type": "markdown",
   "metadata": {},
   "source": [
    "# Assignment 1 - Image Deblurring\n",
    "\n",
    "Name: Michael Senn<br>\n",
    "Matriculation number: 16-126-880"
   ]
  },
  {
   "cell_type": "code",
   "execution_count": 69,
   "metadata": {},
   "outputs": [],
   "source": [
    "import numpy as np\n",
    "from PIL import Image\n",
    "import matplotlib.pyplot as plt\n",
    "\n",
    "import scipy.signal\n",
    "\n",
    "from hessian_matrix import hessian_matrix"
   ]
  },
  {
   "cell_type": "markdown",
   "metadata": {},
   "source": [
    "## Test Image\n",
    "\n",
    "You can use the following function to create a synthetic image:\n",
    "\n"
   ]
  },
  {
   "cell_type": "code",
   "execution_count": 27,
   "metadata": {},
   "outputs": [
    {
     "name": "stdout",
     "output_type": "stream",
     "text": [
      "(30, 30)\n"
     ]
    },
    {
     "data": {
      "image/png": "[encoded data removed]",
      "text/plain": [
       "<Figure size 432x288 with 1 Axes>"
      ]
     },
     "metadata": {
      "needs_background": "light"
     },
     "output_type": "display_data"
    }
   ],
   "source": [
    "def create_random_binary_img_1():\n",
    "    # This is going to create an array containing exclusively 1, \n",
    "    # so the image is going to be anything but random.\n",
    "    u = np.random.randint(1,2, 30*30).reshape(30,30).astype(float)\n",
    "    u[5:9,4:] = 0.5\n",
    "    u[3:5,4:] = 0\n",
    "    u[10:15,:10] = 0\n",
    "    u[10:15,15:] = 0.8\n",
    "    u[15:, 18:27] = 0.3\n",
    "\n",
    "    for i in range(10):\n",
    "        u[i+17,i+4:i+8]  = 0\n",
    "    \n",
    "    u[20:25:, 20:23] = 1    \n",
    "    u[20:28,4] = 0\n",
    "    u[20:28,3] = 0.3\n",
    "    u[20:28,2] = 0.7\n",
    "\n",
    "    return u\n",
    "\n",
    "sample_image = create_random_binary_img_1()\n",
    "\n",
    "plt.imshow(sample_image, cmap =\"gray\")\n",
    "plt.show()"
   ]
  },
  {
   "cell_type": "markdown",
   "metadata": {},
   "source": [
    "## hessian_matrix() function\n",
    "\n",
    "We provide the implementation of the hessian matrix for $k = 0, 1, 2, 3$.\n",
    "\n",
    "input variables: \n",
    "- u: your image\n",
    "- reg: regularization parameter\n",
    "- k: one of the four kernel types 0-3 \n",
    "\n",
    "Example usage:"
   ]
  },
  {
   "cell_type": "code",
   "execution_count": 5,
   "metadata": {},
   "outputs": [
    {
     "name": "stdout",
     "output_type": "stream",
     "text": [
      "[[ 4.  -2.   0.  -2.   0.   0.   0.   0.   0. ]\n",
      " [-2.   6.  -2.   0.  -2.   0.   0.   0.   0. ]\n",
      " [ 0.  -2.   4.   0.   0.  -2.   0.   0.   0. ]\n",
      " [-2.   0.   0.   6.5 -1.5  0.  -2.   0.   0. ]\n",
      " [ 0.  -2.   0.  -1.5  9.  -1.5  0.  -2.   0. ]\n",
      " [ 0.   0.  -2.   0.  -1.5  6.5  0.   0.  -2. ]\n",
      " [ 0.   0.   0.  -2.   0.   0.   4.5 -1.5  0. ]\n",
      " [ 0.   0.   0.   0.  -2.   0.  -1.5  7.  -1.5]\n",
      " [ 0.   0.   0.   0.   0.  -2.   0.  -1.5  4.5]]\n"
     ]
    }
   ],
   "source": [
    "u_ex = np.zeros(9).reshape(3,3)\n",
    "reg_ex = 1\n",
    "k_type_ex = 0 # 16-126-880 mod 4\n",
    "A = hessian_matrix(u_ex, reg_ex, k_type_ex)\n",
    "A_n_t = A.toarray()\n",
    "print(A_n_t)"
   ]
  },
  {
   "cell_type": "markdown",
   "metadata": {},
   "source": [
    "## Implementation"
   ]
  },
  {
   "cell_type": "code",
   "execution_count": 246,
   "metadata": {},
   "outputs": [],
   "source": [
    "def no_regularization(u):\n",
    "    return np.zeros(u.shape)\n",
    "    \n",
    "def anisotropic_regularization(u):\n",
    "    gradient = np.zeros(u.shape)\n",
    "    n, m = u.shape\n",
    "    \n",
    "    # Case A\n",
    "    gradient[0, 0] = np.sign(u[0, 0] - u[1, 0]) + np.sign(u[0, 0] - u[0, 1])\n",
    "    \n",
    "    # Case B\n",
    "    gradient[1:n-1, 0] = np.sign(u[1:n-1, 0] - u[0:n-2, 0]) + np.sign(u[1:n-1, 0] - u[2:n, 0]) + np.sign(u[1:n-1, 0] - u[1:n-1, 1])\n",
    "    \n",
    "    # Case C\n",
    "    gradient[n-1, 0] = np.sign(u[n-1, 0] - u[n-2, 0]) + np.sign(u[n-1, 0] - u[n-1, 1])\n",
    "    \n",
    "    # Case D\n",
    "    gradient[n-1, 1:m-1] = np.sign(u[n-1, 1:m-1] - u[n-2, 1:m-1]) + np.sign(u[n-1, 1:m-1] - u[n-1, 0:m-2]) + np.sign(u[n-1, 1:m-1] - u[n-1, 2:m])\n",
    "    \n",
    "    # Case E\n",
    "    gradient[n-1, m-1] = np.sign(u[n-1, m-1] - u[n-2, m-1]) + np.sign(u[n-1, m-1] - u[n-1, m-2])\n",
    "    \n",
    "    # Case F\n",
    "    gradient[1:n-1, m-1] = np.sign(u[1:n-1, m-1] - u[1:n-1, m-2]) + np.sign(u[1:n-1, m-1] - u[2:n, m-1]) + np.sign(u[1:n-1, m-1] - u[0:n-2, m-1])\n",
    "    \n",
    "    # Case G\n",
    "    gradient[0, m-1] = np.sign(u[0, m-1] - u[0, m-2]) + np.sign(u[0, m-1] - u[1, m-1])\n",
    "    \n",
    "    # Case H\n",
    "    gradient[0, 1:m-1] = np.sign(u[0, 1:m-1] - u[1, 1:m-1]) + np.sign(u[0, 1:m-1] - u[0, 2:m]) + np.sign(u[0, 1:m-1] - u[0, 0:m-2])\n",
    "    \n",
    "    # Case I\n",
    "    gradient[1:n-1, 1:m-1] = np.sign(u[1:n-1, 1:m-1] - u[2:n, 1:m-1]) + np.sign(u[1:n-1, 1:m-1] - u[1:n-1, 2:m]) + np.sign(u[1:n-1, 1:m-1] - u[0:n-2, 1:m-1]) + np.sign(u[1:n-1, 1:m-1] - u[1:n-1, 0:m-2])\n",
    "    \n",
    "    return gradient\n",
    "\n",
    "def gaussian_regularization(u):\n",
    "    gradient = np.zeros(u.shape)\n",
    "    n, m = u.shape\n",
    "    \n",
    "    # Case A\n",
    "    gradient[0, 0] = 4 * u[0, 0] - 2 * u[1, 0] - 2 * u[0, 1]\n",
    "    \n",
    "    # Case B\n",
    "    gradient[1:n-1, 0] = 6 * u[1:n-1, 0] - 2 * u[0:n-2, 0] - 2 * u[2:n, 0] - 2 * u[1:n-1, 1]\n",
    "    \n",
    "    # Case C\n",
    "    gradient[n-1, 0] = 4 * u[n-1, 0] - 2 * u[n-2, 0] - 2 * u[n-1, 1]\n",
    "    \n",
    "    # Case D\n",
    "    gradient[n-1, 1:m-1] = 6 * u[n-1, 1:m-1] - 2 * u[n-2, 1:m-1] - 2 * u[n-1, 0:m-2] - 2 * u[n-1, 2:m]\n",
    "    \n",
    "    # Case E\n",
    "    gradient[n-1, m-1] = 4 * u[n-1, m-1] - 2 * u[n-2, m-1] - 2 * u[n-1, m-2]\n",
    "    \n",
    "    # Case F\n",
    "    gradient[1:n-1, m-1] = 6 * u[1:n-1, m-1] - 2 * u[1:n-1, m-2] - 2 * u[2:n, m-1] - 2 * u[0:n-2, m-1]\n",
    "    \n",
    "    # Case G\n",
    "    gradient[0, m-1] = 4 * u[0, m-1] - 2 * u[0, m-2] - 2 * u[1, m-1]\n",
    "    \n",
    "    # Case H\n",
    "    gradient[0, 1:m-1] = 6 * u[0, 1:m-1] - 2 * u[1, 1:m-1] - 2 * u[0, 2:m] - 2 * u[0, 0:m-2]\n",
    "    \n",
    "    # Case I\n",
    "    gradient[1:n-1, 1:m-1] = 8 * u[1:n-1, 1:m-1] - 2 * u[2:n, 1:m-1] - 2 * u[1:n-1, 2:m] - 2 * u[0:n-2, 1:m-1] - 2 * u[1:n-1, 0:m-2]\n",
    "    \n",
    "    return gradient\n",
    "\n",
    "def data_term_gradient(u, g):  \n",
    "    gradient = np.zeros(u.shape)\n",
    "    n, m = u.shape\n",
    "    \n",
    "    # Case A\n",
    "    gradient[0, 0] = 0\n",
    "    \n",
    "    # Case B\n",
    "    gradient[1:n, 0] = 1/2 * u[1:n, 1] + 1/2 * u[1:n, 0] - g[0:n-1, 0]\n",
    "    \n",
    "    # Case C\n",
    "    gradient[1:n, m-1] = 1/2 * u[1:n, m-2] + 1/2 * u[1:n, m-1] - g[0:n-1, m-2]\n",
    "    \n",
    "    # Case D\n",
    "    gradient[1:n, 1:m-1] = 1/2 * u[1:n, 2:m] + 1/2 * u[1:n, 1:m-1] - g[0:n-1, 1:m-1] + 1/2 * u[1:n, 0:m-2] + 1/2 * u[1:n, 1:m-1] - g[0:n-1, 0:m-2]\n",
    "    \n",
    "    return gradient"
   ]
  },
  {
   "cell_type": "code",
   "execution_count": 247,
   "metadata": {},
   "outputs": [],
   "source": [
    "def GD(g, reg_lambda, reg_term = no_regularization, epsilon = 0.1, stop_criteria = 10**(-1), max_iter = 10**5):\n",
    "    \"\"\"\n",
    "    Gradient Descent algorithm\n",
    "    g: grayscale blurry image of size (M, N)\n",
    "    reg_lambda: regularization parameter\n",
    "    epsilon: Gradient descent learning rate\n",
    "    stop_criteria: Frobenius norm of gradient below which iteration will stop.\n",
    "    max_iter: Iteration count after which GD will terminate early.\n",
    "    \"\"\"\n",
    "    \n",
    "    n, m = g.shape[0], g.shape[1]\n",
    "    \n",
    "    # Start with a m+1 x n+1 image initialized to zero\n",
    "    u = np.zeros((n+1, m+1))\n",
    "    # And initialize bottom right corner with our original image (this is kernel-specific, \n",
    "    # but if done incorrectly will be fixed by GD anyway)\n",
    "    u[1:n+2, 1:m+2] = g\n",
    "  \n",
    "    cur_iter = 0\n",
    "    while True:\n",
    "        # Start with GD until convergence, or max_iter reached\n",
    "        cur_iter += 1\n",
    "        \n",
    "        # Gradient of data term\n",
    "        data_gradient = data_term_gradient(u, g)\n",
    "        \n",
    "        # Gradient of data term plus lambda * gradient of chosen regularization term\n",
    "        gradient = data_gradient + reg_lambda * reg_term(u)\n",
    "        \n",
    "        # Froebius norm of full gradient, used as stop condition\n",
    "        gradient_norm = np.linalg.norm(gradient, ord='fro')\n",
    "        \n",
    "        if gradient_norm < stop_criteria:\n",
    "            print(f\"Gradient descent: Stopping after {cur_iter} iterations. Norm of gradient = {gradient_norm}\")\n",
    "            break\n",
    "            \n",
    "        if cur_iter > max_iter:\n",
    "            print(f\"WARNING: Gradient descent terminating early after {cur_iter - 1} iterations. Norm of gradient = {gradient_norm}\")\n",
    "            break\n",
    "                \n",
    "        # Update rule of GD with step size epsilon\n",
    "        u = u - epsilon * gradient\n",
    "            \n",
    "    return u"
   ]
  },
  {
   "cell_type": "code",
   "execution_count": 248,
   "metadata": {},
   "outputs": [],
   "source": [
    "def LGS(g, reg_lambda):\n",
    "    \"\"\"\n",
    "    Linearalized Gauss Seidel Algortihm\n",
    "    g: grayscale blurry image of size (M, N)\n",
    "    reg_lambda: regularization parameter\n",
    "    \"\"\"\n",
    "    u = g  # TODO: replace with actual implementation\n",
    "    return u"
   ]
  },
  {
   "cell_type": "code",
   "execution_count": 249,
   "metadata": {},
   "outputs": [],
   "source": [
    "def LSOR(g, reg_lambda, w):\n",
    "    \"\"\"\n",
    "    Linearized SOR Algorithm\n",
    "    g: grayscale blyrry image of size (M, N)\n",
    "    reg_lambda: regularization parameter\n",
    "    w: SOR parameter\n",
    "    \"\"\"\n",
    "    u = g  # TODO: replace with actual implementation\n",
    "    return u"
   ]
  },
  {
   "cell_type": "markdown",
   "metadata": {},
   "source": [
    "### Parameters"
   ]
  },
  {
   "cell_type": "code",
   "execution_count": 251,
   "metadata": {},
   "outputs": [
    {
     "data": {
      "text/plain": [
       "array([[0., 0.],\n",
       "       [0., 0.]])"
      ]
     },
     "execution_count": 251,
     "metadata": {},
     "output_type": "execute_result"
    }
   ],
   "source": [
    "reg_lambda = 0.001 # lambda regularization parameter. you need to play with this \n",
    "# k matrix. Look below how to choose it \n",
    "k = 0 # 16-126-880 mod 0\n",
    "\n",
    "# reg_term = no_regularization\n",
    "# reg_term = gaussian_regularization\n",
    "reg_term = anisotropic_regularization"
   ]
  },
  {
   "cell_type": "markdown",
   "metadata": {},
   "source": [
    "$k =0 \\longrightarrow \\begin{bmatrix}\\frac{1}{2} & \\frac{1}{2} \\\\0&0\\end{bmatrix} \\hspace{1cm} k =1 \\longrightarrow  \\begin{bmatrix}\\frac{1}{2} & 0 \\\\\\frac{1}{2}&0\\end{bmatrix} \\hspace{1cm} k =2 \\longrightarrow \\begin{bmatrix}\\frac{1}{2} & 0 \\\\0&\\frac{1}{2}\\end{bmatrix}   \\hspace{1cm} k =3 \\longrightarrow \\begin{bmatrix}0 & \\frac{1}{2} \\\\ \\frac{1}{2}&0\\end{bmatrix}$\n",
    "\n"
   ]
  },
  {
   "cell_type": "markdown",
   "metadata": {},
   "source": [
    "### Reading image\n",
    "\n",
    "You are provided with only the synthetic image. \n",
    "The purpose of using a synthetic image is to see possible changes in the deblurred image after applying your algorithm. \n",
    "You can convolve the original image using the [scipy library](https://docs.scipy.org/doc/scipy/reference/generated/scipy.signal.convolve2d.html).\n",
    "Note that you must choose **valid** as the mode in your convolution."
   ]
  },
  {
   "cell_type": "code",
   "execution_count": 252,
   "metadata": {},
   "outputs": [],
   "source": [
    "img_org = sample_image = create_random_binary_img_1()\n",
    "\n",
    "kernel = np.array([[1/2, 1/2], [0, 0]])\n",
    "\n",
    "# 'valid' mode will not do any padding, and rather simply \n",
    "# discard the pixels for which there would be out-of-bounds issues.\n",
    "img_blurred = scipy.signal.convolve2d(sample_image, kernel, mode='valid')\n"
   ]
  },
  {
   "cell_type": "markdown",
   "metadata": {},
   "source": [
    "## GRADIENT DESCENT"
   ]
  },
  {
   "cell_type": "code",
   "execution_count": 253,
   "metadata": {},
   "outputs": [],
   "source": [
    "def loss_term(reconstructed_img, blurry_img):\n",
    "    # Loss term as per equation 3 of PDF\n",
    "    \n",
    "    # First re-blur the reconstructed image\n",
    "    reblurred_img = scipy.signal.convolve2d(reconstructed_img, kernel, mode='valid')\n",
    "    \n",
    "    # Loss term is now sum of absolute (per-pixel) differences\n",
    "    return np.absolute(reblurred_img - blurry_img).sum()\n",
    "\n",
    "def sse(reconstructed_img, original_img):\n",
    "    \"\"\"Calculate sum of squared (element-wise) differences\"\"\"\n",
    "    \n",
    "    return np.square(reconstructed_img - original_img).sum()"
   ]
  },
  {
   "cell_type": "code",
   "execution_count": 255,
   "metadata": {},
   "outputs": [
    {
     "name": "stdout",
     "output_type": "stream",
     "text": [
      "Running gradient descent with convergence criteria = 0.01, step size = 0.1\n",
      "Regularization term: <function anisotropic_regularization at 0x7f2bdc6404c0> with lambda = 0.001\n",
      "WARNING: Gradient descent terminating early after 100000 iterations. Norm of gradient = 0.08933063861929622\n",
      "(29, 29)\n",
      "(30, 30)\n",
      "(30, 30)\n"
     ]
    },
    {
     "data": {
      "image/png": "[encoded data removed]",
      "text/plain": [
       "<Figure size 1080x360 with 3 Axes>"
      ]
     },
     "metadata": {
      "needs_background": "light"
     },
     "output_type": "display_data"
    },
    {
     "name": "stdout",
     "output_type": "stream",
     "text": [
      "For lambda 0.00100\t \n",
      "k_type 0\n",
      "Loss Data Term = 0.29108205903774353\n",
      "Sum of Squared Distance: deblurred vs. original = 0.0006037885214978733\n"
     ]
    }
   ],
   "source": [
    "gd_epsilon = 0.1\n",
    "gd_stop_criteria = 10**(-2)\n",
    "\n",
    "print(f\"Running gradient descent with convergence criteria = {gd_stop_criteria}, step size = {gd_epsilon}\")\n",
    "print(f\"Regularization term: {reg_term} with lambda = {reg_lambda}\")\n",
    "# run gradient descent algorithm\n",
    "img_deblurred_gd = GD(img_blurred, reg_lambda, reg_term=reg_term, epsilon=gd_epsilon, stop_criteria=gd_stop_criteria)\n",
    "\n",
    "\n",
    "print(img_blurred.shape)\n",
    "print(img_deblurred_gd.shape)\n",
    "print(img_org.shape)\n",
    "# for visualization purpose \n",
    "# img_deblurred_gd = np.clip(u_final_gd, 0, 1)\n",
    "\n",
    "\n",
    "plt.figure(figsize=(15, 5))\n",
    "ax1 = plt.subplot(1, 3, 1)\n",
    "plt.imshow(img_blurred, cmap='gray')\n",
    "ax2 = plt.subplot(1, 3, 2)\n",
    "plt.imshow(img_deblurred_gd, cmap='gray')\n",
    "ax3 = plt.subplot(1, 3, 3)\n",
    "plt.imshow(img_org, cmap='gray')\n",
    "\n",
    "ax1.set_title(\"Blurred Image\")\n",
    "ax2.set_title(\"Deblurred Image - GD\")\n",
    "ax3.set_title(\"Original - Sharp Image\")\n",
    "plt.show()\n",
    "\n",
    "print(f\"For lambda {reg_lambda:.5f}\\t \\nk_type {k:1d}\")\n",
    "\n",
    "# TODO: print the loss\n",
    "print(f\"Loss Data Term = {loss_term(img_deblurred_gd, img_blurred)}\")\n",
    "\n",
    "# TODO: print the error\n",
    "print(f\"Sum of Squared Distance: deblurred vs. original = {sse(img_deblurred_gd, img_org)}\")  "
   ]
  },
  {
   "cell_type": "markdown",
   "metadata": {},
   "source": [
    "## SOR"
   ]
  },
  {
   "cell_type": "code",
   "execution_count": null,
   "metadata": {},
   "outputs": [],
   "source": [
    "w = 0.3 #play with this\n",
    "\n",
    "# run LSOR algorithm\n",
    "img_deblurred_sor = LSOR(img_blurred, reg_lambda, w)\n",
    "\n",
    "\n",
    "plt.figure(figsize=(15, 5))\n",
    "ax1 = plt.subplot(1, 3, 1)\n",
    "plt.imshow(img_blurred, cmap='gray')\n",
    "ax2 = plt.subplot(1, 3, 2)\n",
    "plt.imshow(img_deblurred_sor, cmap='gray')\n",
    "ax3 = plt.subplot(1, 3, 3)\n",
    "plt.imshow(img_org,cmap='gray')\n",
    "\n",
    "ax1.set_title(\"Blurred Image\")\n",
    "ax2.set_title(\"Deblurred Image - LSOR\")\n",
    "ax3.set_title(\"Original - Sharp Image\")\n",
    "#plt.savefig(\"results_\"+str(k)+\".png\")\n",
    "plt.show()\n",
    "\n",
    "print(f\"For lambda {reg_lambda:.5f}\")\n",
    "\n",
    "# TODO: print the loss\n",
    "print(f\"Loss Data Term = \")\n",
    "\n",
    "# TODO: print the error\n",
    "print(\"Sum of Squared Distance: deblurred vs. original = \")  "
   ]
  },
  {
   "cell_type": "markdown",
   "metadata": {},
   "source": [
    "## GAUSS - SEIDEL"
   ]
  },
  {
   "cell_type": "code",
   "execution_count": null,
   "metadata": {},
   "outputs": [],
   "source": [
    "nb_iter = 1\n",
    "\n",
    "# run LGS algorithm\n",
    "img_deblurred_gs = LGS(img_blurred, reg_lambda)\n",
    "\n",
    "\n",
    "plt.figure(figsize=(15, 5))\n",
    "ax1 = plt.subplot(1, 3, 1)\n",
    "plt.imshow(img_blurred, cmap='gray')\n",
    "ax2 = plt.subplot(1, 3, 2)\n",
    "plt.imshow(img_deblurred_gs, cmap='gray')\n",
    "ax3 = plt.subplot(1, 3, 3)\n",
    "plt.imshow(img_org, cmap='gray')\n",
    "\n",
    "ax1.set_title(\"Blurred Image\")\n",
    "ax2.set_title(\"Deblurred Image - LGS\")\n",
    "ax3.set_title(\"Original - Sharp Image\")\n",
    "plt.show()\n",
    "\n",
    "print(f\"For lambda {reg_lambda:.5f}\")\n",
    "\n",
    "# TODO: print the loss\n",
    "print(f\"Loss Data Term = \")\n",
    "\n",
    "# TODO: print the error\n",
    "print(\"Sum of Squared Distance: deblurred vs. original = \")  "
   ]
  }
 ],
 "metadata": {
  "kernelspec": {
   "display_name": "Python 3 (ipykernel)",
   "language": "python",
   "name": "python3"
  },
  "language_info": {
   "codemirror_mode": {
    "name": "ipython",
    "version": 3
   },
   "file_extension": ".py",
   "mimetype": "text/x-python",
   "name": "python",
   "nbconvert_exporter": "python",
   "pygments_lexer": "ipython3",
   "version": "3.9.7"
  }
 },
 "nbformat": 4,
 "nbformat_minor": 4
}
